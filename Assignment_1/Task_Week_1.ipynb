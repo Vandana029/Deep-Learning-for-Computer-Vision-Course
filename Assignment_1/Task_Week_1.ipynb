{
  "nbformat": 4,
  "nbformat_minor": 0,
  "metadata": {
    "colab": {
      "provenance": []
    },
    "kernelspec": {
      "name": "python3",
      "display_name": "Python 3"
    },
    "language_info": {
      "name": "python"
    }
  },
  "cells": [
    {
      "cell_type": "markdown",
      "source": [
        "# Task - 1"
      ],
      "metadata": {
        "id": "NPXHhviB3JWP"
      }
    },
    {
      "cell_type": "markdown",
      "source": [
        "## Q1: Create a function to convert RGB to Grey scale image. Use numpy, pytorch, or tf but don't direct available functions.\n",
        "\n",
        "Hint: Use the formula: Gray = 0.299*R + 0.587*G + 0.114*B for the conversion.\n"
      ],
      "metadata": {
        "id": "eOdiARNj0peP"
      }
    },
    {
      "cell_type": "markdown",
      "source": [
        "### Soulution :"
      ],
      "metadata": {
        "id": "5tjOuugW1RZC"
      }
    },
    {
      "cell_type": "code",
      "source": [],
      "metadata": {
        "id": "uOJZeYZf2Gar"
      },
      "execution_count": null,
      "outputs": []
    },
    {
      "cell_type": "markdown",
      "source": [
        "## Q2 : Create a function to convolve_image taking image, kernel as input and returned convolved image.\n",
        "\n",
        "Hint :  Easy Pesy - done in the class.  "
      ],
      "metadata": {
        "id": "PHX3Yc3v4Aaj"
      }
    },
    {
      "cell_type": "markdown",
      "source": [
        "### Solution :"
      ],
      "metadata": {
        "id": "uqZ5qVmp6XHd"
      }
    },
    {
      "cell_type": "code",
      "source": [],
      "metadata": {
        "id": "l0Es1wK06NwW"
      },
      "execution_count": null,
      "outputs": []
    },
    {
      "cell_type": "markdown",
      "source": [
        "## Q3 : Apply Below Kernels - Note the effects you observe\n",
        "\n",
        "1. ```\n",
        "[[0, 0, 0],\n",
        " [0, 1, 0],\n",
        " [0, 0, 0]]\n",
        "```\n",
        "\n",
        "2. ```\n",
        "[[-1, -1, -1],\n",
        " [-1,  8, -1],\n",
        " [-1, -1, -1]]\n",
        " ```\n",
        "\n",
        "3. ```\n",
        "[[-1, 0, 1],\n",
        " [-2, 0, 2],\n",
        " [-1, 0, 1]]\n",
        "```\n",
        "\n",
        "4. ```\n",
        " [[-1, -2, -1],\n",
        " [0,  0,  0],\n",
        " [1,  2,  1]]\n",
        " ```\n",
        "\n",
        "\n",
        "5. ```\n",
        " [[ 0, -1,  0],\n",
        " [-1,  5, -1],\n",
        " [ 0, -1,  0]]\n",
        " ```\n",
        "\n",
        "6. ```\n",
        " [[-1, -1, -1],\n",
        " [-1,  8, -1],\n",
        " [-1, -1, -1]]\n",
        " ```\n",
        "7. ```\n",
        "[[-2, -1,  0],\n",
        " [-1,  1,  1],\n",
        " [ 0,  1,  2]]\n",
        "```\n",
        "\n",
        "8. ```\n",
        "[[0.111,\t0.111,\t0.111]\n",
        "[0.111,\t0.111,\t0.111]\n",
        "[0.111,\t0.111,\t0.111]]\n",
        "```"
      ],
      "metadata": {
        "id": "xVz-vfcy6Umt"
      }
    },
    {
      "cell_type": "markdown",
      "source": [
        "## Solution"
      ],
      "metadata": {
        "id": "PFPmsM7v_zAp"
      }
    },
    {
      "cell_type": "code",
      "source": [],
      "metadata": {
        "id": "m66sXzBJ1_pY"
      },
      "execution_count": null,
      "outputs": []
    },
    {
      "cell_type": "code",
      "source": [],
      "metadata": {
        "id": "oLEtVYAY_3Fk"
      },
      "execution_count": null,
      "outputs": []
    },
    {
      "cell_type": "markdown",
      "source": [
        "## Question 4: Image Filtering and Transformation\n",
        "**Task**: Implement a function to perform image filtering and transformation that includes:\n",
        "\n",
        "* **Filtering**: Apply a Gaussian blur to the image to reduce noise and smooth the image.\n",
        "* **Transformation**: Apply a rotation to the image by a specified angle.\n",
        "\n",
        "\n",
        "Hints:\n",
        "* For Gaussian blur, you can create a Gaussian kernel and apply it using convolution. https://en.wikipedia.org/wiki/Gaussian_blur\n",
        "* For rotation, compute the rotation matrix and use cv2.warpAffine. https://theailearner.com/tag/cv2-warpaffine/\n",
        "\n",
        "\n",
        "![image.png](data:image/png;base64,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)\n"
      ],
      "metadata": {
        "id": "UjSSqAvqCM8g"
      }
    },
    {
      "cell_type": "markdown",
      "source": [
        "### Solution :"
      ],
      "metadata": {
        "id": "eO8nTdE-G9DG"
      }
    },
    {
      "cell_type": "code",
      "source": [],
      "metadata": {
        "id": "ZZ826plvJw20"
      },
      "execution_count": null,
      "outputs": []
    },
    {
      "cell_type": "markdown",
      "source": [
        "## Question 5: Normalization\n",
        "\n",
        "Apply different Image Normalization technique from scratch and visualize the effect.\n",
        "\n",
        "* Do normalization - see effect on min, max, mean, std value\n",
        "* See changes in Pixel Distribution"
      ],
      "metadata": {
        "id": "k1f066QGLjri"
      }
    },
    {
      "cell_type": "markdown",
      "source": [
        "### Solution"
      ],
      "metadata": {
        "id": "84CZr0KdLx1U"
      }
    },
    {
      "cell_type": "code",
      "source": [],
      "metadata": {
        "id": "oQKQF7sA2EMq"
      },
      "execution_count": null,
      "outputs": []
    },
    {
      "cell_type": "markdown",
      "source": [
        "# Happy Learning !\n",
        "<img src=\"data:image/jpeg;base64,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\" alt=\"campusx_logo\" style=\"width: 50px; height: 50px;\"/>\n"
      ],
      "metadata": {
        "id": "YO5obhmUI8oT"
      }
    }
  ]
}