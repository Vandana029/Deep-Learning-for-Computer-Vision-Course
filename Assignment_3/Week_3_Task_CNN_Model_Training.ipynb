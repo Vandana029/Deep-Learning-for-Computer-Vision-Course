{
  "nbformat": 4,
  "nbformat_minor": 0,
  "metadata": {
    "colab": {
      "provenance": [],
      "collapsed_sections": [
        "lJJDVHES6JCZ"
      ]
    },
    "kernelspec": {
      "name": "python3",
      "display_name": "Python 3"
    },
    "language_info": {
      "name": "python"
    }
  },
  "cells": [
    {
      "cell_type": "markdown",
      "source": [
        "Dataset Link: https://www.kaggle.com/datasets/pkdarabi/bone-break-classification-image-dataset"
      ],
      "metadata": {
        "id": "yPjul8ds6EfO"
      }
    },
    {
      "cell_type": "markdown",
      "source": [
        "## Train a Basic CNN Archtecture on the above Dataset - for multi classification."
      ],
      "metadata": {
        "id": "lJJDVHES6JCZ"
      }
    },
    {
      "cell_type": "markdown",
      "source": [
        "* The dataset covers a range of bone fracture classes, such as avulsion fractures, comminuted fractures, fracture-dislocations, greenstick fractures, hairline fractures, impacted fractures, longitudinal fractures, oblique fractures, pathological fractures, and spiral fractures."
      ],
      "metadata": {
        "id": "sbARaj2N6YvG"
      }
    },
    {
      "cell_type": "markdown",
      "source": [
        "### Step 1: Create A Data Loader - for train and test"
      ],
      "metadata": {
        "id": "P7akK8Uz6ggo"
      }
    },
    {
      "cell_type": "code",
      "source": [],
      "metadata": {
        "id": "PU6LP91X6l_h"
      },
      "execution_count": null,
      "outputs": []
    },
    {
      "cell_type": "code",
      "source": [],
      "metadata": {
        "id": "FzMunDF26mKJ"
      },
      "execution_count": null,
      "outputs": []
    },
    {
      "cell_type": "markdown",
      "source": [
        "### Step 2: Load and Visualise some randome images (10). With title as respective class and also pixel ranges"
      ],
      "metadata": {
        "id": "2dugGFUq6mar"
      }
    },
    {
      "cell_type": "code",
      "source": [],
      "metadata": {
        "id": "TPiFmD7c7AIM"
      },
      "execution_count": null,
      "outputs": []
    },
    {
      "cell_type": "code",
      "source": [],
      "metadata": {
        "id": "AxOmrXZ47AK-"
      },
      "execution_count": null,
      "outputs": []
    },
    {
      "cell_type": "code",
      "source": [],
      "metadata": {
        "id": "oeFNIFYi7ANu"
      },
      "execution_count": null,
      "outputs": []
    },
    {
      "cell_type": "markdown",
      "source": [
        "### Step 3: Pre-Process Images - ( Normalization if required can add this in first layer operation)"
      ],
      "metadata": {
        "id": "oJ3k1edk7BlH"
      }
    },
    {
      "cell_type": "code",
      "source": [],
      "metadata": {
        "id": "6y3Qhf827clL"
      },
      "execution_count": null,
      "outputs": []
    },
    {
      "cell_type": "code",
      "source": [],
      "metadata": {
        "id": "GD-3jV947cn9"
      },
      "execution_count": null,
      "outputs": []
    },
    {
      "cell_type": "code",
      "source": [],
      "metadata": {
        "id": "LRXQjspo7cqS"
      },
      "execution_count": null,
      "outputs": []
    },
    {
      "cell_type": "markdown",
      "source": [
        "### Step 4: Create CNN Architecture"
      ],
      "metadata": {
        "id": "8u6fxNEL7c5Y"
      }
    },
    {
      "cell_type": "code",
      "source": [],
      "metadata": {
        "id": "2whmEWfW7iGq"
      },
      "execution_count": null,
      "outputs": []
    },
    {
      "cell_type": "code",
      "source": [],
      "metadata": {
        "id": "Fru01Bk_7iJi"
      },
      "execution_count": null,
      "outputs": []
    },
    {
      "cell_type": "code",
      "source": [],
      "metadata": {
        "id": "-uzncnxa7iMD"
      },
      "execution_count": null,
      "outputs": []
    },
    {
      "cell_type": "markdown",
      "source": [
        "### Step 5: Start Training and Show training graph"
      ],
      "metadata": {
        "id": "vUACxIDq7iU0"
      }
    },
    {
      "cell_type": "code",
      "source": [],
      "metadata": {
        "id": "kUFisVsr7rqU"
      },
      "execution_count": null,
      "outputs": []
    },
    {
      "cell_type": "code",
      "source": [],
      "metadata": {
        "id": "AaVSMi8H7rtO"
      },
      "execution_count": null,
      "outputs": []
    },
    {
      "cell_type": "code",
      "source": [],
      "metadata": {
        "id": "s1xJYPBy7r7C"
      },
      "execution_count": null,
      "outputs": []
    },
    {
      "cell_type": "markdown",
      "source": [
        "### Step 6: Prediction Results"
      ],
      "metadata": {
        "id": "uE98d5Ke7sDS"
      }
    },
    {
      "cell_type": "code",
      "source": [],
      "metadata": {
        "id": "cEso0Zbv7wsf"
      },
      "execution_count": null,
      "outputs": []
    },
    {
      "cell_type": "code",
      "source": [],
      "metadata": {
        "id": "uvwrHg2c7wvH"
      },
      "execution_count": null,
      "outputs": []
    },
    {
      "cell_type": "code",
      "source": [],
      "metadata": {
        "id": "pxb7WvkZ7wxt"
      },
      "execution_count": null,
      "outputs": []
    },
    {
      "cell_type": "markdown",
      "source": [
        "## Task 2: Improve the above model by Applying Transfer Learning and Data Augmentation\n",
        "\n",
        "Implementation Steps\n",
        "* **Data Augmentation**: Increase dataset diversity using random transformations.\n",
        "* **Model Checkpoints**: Save the best model based on validation performance.\n",
        "* **Early Stopping**: Stop training when the model's performance stops improving.\n",
        "\n",
        "Optional(Can come and apply these after next week class to practice):\n",
        "* Transfer Learning: Use a pre-trained model and fine-tune it on your dataset.\n",
        "Callbacks:\n",
        "* TensorBoard: Monitor training and validation metrics."
      ],
      "metadata": {
        "id": "PYcdBvf9lPQ1"
      }
    },
    {
      "cell_type": "code",
      "source": [],
      "metadata": {
        "id": "K68x4Gf-lXvJ"
      },
      "execution_count": null,
      "outputs": []
    }
  ]
}