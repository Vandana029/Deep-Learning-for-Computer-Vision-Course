{
  "nbformat": 4,
  "nbformat_minor": 0,
  "metadata": {
    "colab": {
      "provenance": []
    },
    "kernelspec": {
      "name": "python3",
      "display_name": "Python 3"
    },
    "language_info": {
      "name": "python"
    }
  },
  "cells": [
    {
      "cell_type": "markdown",
      "source": [
        "### Task on Transfer Learning\n",
        "\n",
        "* Complete the session code to train for larger epochs\n",
        "* Do the performnce plots and evaulation and confusion matrix\n",
        "* Take A different Dataset :\n",
        "    - Create A Custom Model\n",
        "    - Train\n",
        "    - Plot Model metrics - accuracy and loss\n",
        "    - Model Evaluation\n",
        "    - Apply Transfer Learning (Load Pre-trained model and Fine Tuning)"
      ],
      "metadata": {
        "id": "QqdIRH7W6sOy"
      }
    },
    {
      "cell_type": "code",
      "source": [],
      "metadata": {
        "id": "utvxwlJz6v-A"
      },
      "execution_count": null,
      "outputs": []
    },
    {
      "cell_type": "markdown",
      "source": [
        "## Task from Session 10"
      ],
      "metadata": {
        "id": "xVnWp2RYCq3J"
      }
    },
    {
      "cell_type": "markdown",
      "source": [
        "* Create a Model Architecture from scratch for SQUEEZENET\n",
        "    - Paper link: https://arxiv.org/pdf/1602.07360\n",
        "    - https://medium.com/@avidrishik/squeezenets-architecture-compressed-neural-network-7741d24ca56f"
      ],
      "metadata": {
        "id": "ifnJWh0RCunY"
      }
    },
    {
      "cell_type": "code",
      "source": [],
      "metadata": {
        "id": "WoI4NXbcCtUX"
      },
      "execution_count": null,
      "outputs": []
    }
  ]
}